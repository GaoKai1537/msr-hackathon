{
 "cells": [
  {
   "cell_type": "markdown",
   "metadata": {},
   "source": [
    "# Context\n",
    "\n",
    "LZ4 is a widely-used lossless compression algorithm. The reference\n",
    "implementation of LZ4 at github.com/lz4/lz is subject to a heap-based\n",
    "buffer overflow in releases prior to 1.9.2 as described in\n",
    "CVE-2019-17543. The vulnerability is fixed by commit\n",
    "d7cad81093cd805110291f84d64d385557d0ffba.\n",
    "\n",
    "\n",
    "# Aim\n",
    "\n",
    "Lets try to determine all the code that may still be vulnerable!\n",
    "\n",
    "First lets define WoC access functions"
   ]
  },
  {
   "cell_type": "code",
   "execution_count": 34,
   "metadata": {},
   "outputs": [],
   "source": [
    "import requests, json\n",
    "\n",
    "def showCnt (type, sha1):\n",
    "  url='http://worldofcode.org/api/lookup?command=showCnt' + '&type='+ type + '&sha1=' + sha1\n",
    "  r = requests.get(url)\n",
    "  res = json.loads(r.content)['stdout']\n",
    "  if type == 'commit': \n",
    "    res = res.split(';')\n",
    "    return ('Tree:'+res[1]+'\\nParent:'+res[2]+'\\nAuthor:'+res[3]+'\\n')\n",
    "  return (res)\n",
    "\n",
    "\n",
    "def getValue (map, key):\n",
    "  #map/key may not be correct names of the parameters\n",
    "  url='http://worldofcode.org/api/lookup?command=getValues' + '&type='+ map + '&sha1=' + key\n",
    "  r = requests.get(url)\n",
    "  return (json.loads(r.content)['stdout']).split(';')[1:]"
   ]
  },
  {
   "cell_type": "markdown",
   "metadata": {},
   "source": [
    "Once these functions are defined we can investigate the the problem:\n",
    "\n",
    "What is the commit?\n",
    "\n",
    "What files does it modify?"
   ]
  },
  {
   "cell_type": "code",
   "execution_count": 35,
   "metadata": {},
   "outputs": [
    {
     "name": "stdout",
     "output_type": "stream",
     "text": [
      "Tree:9af7fb7a0b32809791cad70c12eda3dc9ccb48c7\n",
      "Parent:1bcde6414a68094601ecd57a968808fdd43fb986\n",
      "Author:Nick Terrell <terrelln@fb.com>\n",
      "\n",
      "['9808d70aed03290c648b983ea404446779eff501\\n']\n",
      "['lib/lz4.c\\n']\n"
     ]
    }
   ],
   "source": [
    "print (showCnt('commit', 'd7cad81093cd805110291f84d64d385557d0ffba'))\n",
    "\n",
    "print (getValue('c2b', 'd7cad81093cd805110291f84d64d385557d0ffba'))\n",
    "\n",
    "print (getValue('c2f', 'd7cad81093cd805110291f84d64d385557d0ffba'))"
   ]
  },
  {
   "cell_type": "markdown",
   "metadata": {},
   "source": [
    "The commit with the fix contains only one blob\n",
    "(9808d70aed03290c648b983ea404446779eff501) that creates a new version of lib/lz4.c. The author of that commit is\n",
    "Nick Terrell <terrelln@fb.com>. \n",
    "\n",
    "What projects fixed the vulerability? If they have fixed blob, then they should be OK, \n",
    "if they have the same commit, they are also probably forks.\n",
    "We use p to represent original repo and P to represent deforked repo (one among repos that \n",
    "share lots of commits (https://arxiv.org/abs/2002.02707)"
   ]
  },
  {
   "cell_type": "code",
   "execution_count": 36,
   "metadata": {},
   "outputs": [
    {
     "name": "stdout",
     "output_type": "stream",
     "text": [
      "['0-wiz-0_libuv', '06094051_librdkafka', '1010101012101_borg', '3370sohail_gecko-dev', '540KJ_root', '6180_python-lz4', 'Alexhuszagh_c-blosc', 'Bambooie_gdsfmt', 'cactus74_fst', 'darkskygit_simple_kv', 'draede_cx', 'dudw_libportable', 'fangq_matzip', 'girdharshubham_gokafka', 'git.bioconductor.org_packages_gdsfmt', 'jmoiron_golz4', 'karubabu_quickbms', 'liliilli_Dy', 'lmtwga_lzbench', 'marcelorl_graphql-real-time-example', 'pharaoh1_7-Zip-zstd', 'scalarwaves_zbox', 'silnrsi_grcompiler', 'tafia_fstlib', 'ushiiwaka_ps2-packer', 'windreamer_py-lz4framed\\n']\n",
      "['0-wiz-0_libuv\\n']\n",
      "['MiniclipPortugal_lz4', 'bobby0809_lz4', 'gitlab.com_exokos_data/LibLZ4', 'gitlab.com_freedesktop-sdk_mirrors/github/lz4/lz4', 'gitlab.com_fuchsia-cn_fuchsia/third_party/lz4', 'lz4_lz4', 'terrelln_lz4\\n']\n"
     ]
    }
   ],
   "source": [
    "print (getValue('b2P', '9808d70aed03290c648b983ea404446779eff501'))\n",
    "\n",
    "print (getValue('c2P', 'd7cad81093cd805110291f84d64d385557d0ffba'))\n",
    "\n",
    "print (getValue('c2p', 'd7cad81093cd805110291f84d64d385557d0ffba'))"
   ]
  },
  {
   "cell_type": "markdown",
   "metadata": {},
   "source": [
    "b2P show 26 projects. \n",
    "\n",
    "c2P shows one project (that one project has 7681 forks. \n",
    "\n",
    "c2p shows seven projects. \n",
    "\n",
    "That becomes interesting: somehow the fix was produced via different commits in the forks and \n",
    "many other projects (26) have implemented the fix even though these are not forks.\n",
    " \n",
    "                       \n",
    "Now lets try to identify the code that may still be vulnerable. How?\n",
    "By looking at the pre-fix file content.                       \n",
    "                       \n",
    "                       \n"
   ]
  },
  {
   "cell_type": "code",
   "execution_count": 37,
   "metadata": {},
   "outputs": [
    {
     "name": "stdout",
     "output_type": "stream",
     "text": [
      "['08cf6b5cd72b8182552dcc53bdc0d83ccd5382fd', '143c36e1a7448c488a44498ac953ea222f3f38d0', '4046102e6deea607dc12f870c14295cab1efee77', '707b94c41954792f95b6bb2d316b787352969cef', '877d14edad4b0568598d64579ecb68db82bd59f4', 'c9c5a072a193b9b7f7c010797d0e122038587332', 'e51a3e0a46c9608bedbb0b9565d736240b30bde6', 'e614c4577f2ae8b2db76ff838f2051eeeeb1a89b', 'ed928ced3f154ab414f657c4dbd0193cbe7cd969\\n']\n"
     ]
    }
   ],
   "source": [
    "print (getValue('b2ob', '9808d70aed03290c648b983ea404446779eff501'))"
   ]
  },
  {
   "cell_type": "markdown",
   "metadata": {},
   "source": [
    "In fact, we find recursively finds 514 unique old blobs in 706 different projects.\n",
    "\n",
    "We then need to identify those that do not have the fixed blob in order to determine projects that \n",
    "contain still-vulnerable code."
   ]
  },
  {
   "cell_type": "code",
   "execution_count": null,
   "metadata": {},
   "outputs": [],
   "source": []
  }
 ],
 "metadata": {
  "kernelspec": {
   "display_name": "Python 3",
   "language": "python",
   "name": "python3"
  },
  "language_info": {
   "codemirror_mode": {
    "name": "ipython",
    "version": 3
   },
   "file_extension": ".py",
   "mimetype": "text/x-python",
   "name": "python",
   "nbconvert_exporter": "python",
   "pygments_lexer": "ipython3",
   "version": "3.6.9"
  }
 },
 "nbformat": 4,
 "nbformat_minor": 4
}
